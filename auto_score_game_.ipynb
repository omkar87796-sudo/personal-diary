{
  "nbformat": 4,
  "nbformat_minor": 0,
  "metadata": {
    "colab": {
      "provenance": [],
      "authorship_tag": "ABX9TyNmC2Ac4+s9TU35vqN2/ItT",
      "include_colab_link": true
    },
    "kernelspec": {
      "name": "python3",
      "display_name": "Python 3"
    },
    "language_info": {
      "name": "python"
    }
  },
  "cells": [
    {
      "cell_type": "markdown",
      "metadata": {
        "id": "view-in-github",
        "colab_type": "text"
      },
      "source": [
        "<a href=\"https://colab.research.google.com/github/omkar87796-sudo/personal-diary/blob/main/auto_score_game_.ipynb\" target=\"_parent\"><img src=\"https://colab.research.google.com/assets/colab-badge.svg\" alt=\"Open In Colab\"/></a>"
      ]
    },
    {
      "cell_type": "code",
      "source": [
        "score = int(input(\"enter your score :\"));\n",
        "if score >= 90:\n",
        "  print(\"first class\")\n",
        "elif score >= 80:\n",
        "  print(\"second class\")\n",
        "elif score >= 60:\n",
        "  print(\"third class\")\n",
        "elif score >= 40:\n",
        "  print(\"pass\")\n",
        "elif score < 40:\n",
        "  print(\"fail\")"
      ],
      "metadata": {
        "id": "srAIXEN6yiR-",
        "colab": {
          "base_uri": "https://localhost:8080/"
        },
        "outputId": "c6d6a33e-ebd5-489b-8038-f201f632d70a"
      },
      "execution_count": 1,
      "outputs": [
        {
          "output_type": "stream",
          "name": "stdout",
          "text": [
            "enter your score :86\n",
            "second class\n"
          ]
        }
      ]
    }
  ]
}